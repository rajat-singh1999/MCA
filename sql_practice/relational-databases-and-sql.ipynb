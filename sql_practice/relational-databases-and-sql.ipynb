{
 "cells": [
  {
   "cell_type": "markdown",
   "id": "4a244971",
   "metadata": {},
   "source": [
    "# Relational Databases and SQL (Structured Query Language)\n",
    "\n",
    "\n",
    "![](https://i.imgur.com/63oIWPU.png)\n"
   ]
  },
  {
   "cell_type": "markdown",
   "id": "efb826b8",
   "metadata": {},
   "source": [
    "A database is an organized collection of structured information, typically stored in the form of tables (rows & columns). Relational databases allow storing and retrieving different kinds of related information e.g. products, customers, and orders for an online shopping site. Structured Query Language or SQL (pronounced \"sequel\") is the most widely used language for interacting with relational databases, and is an essential skill for Data Science professionals.\n",
    "\n",
    "The following topics are covered in this tutorial:\n",
    "\n",
    "- Use cases and design of relational databases and SQL\n",
    "- Setting up a database locally using MySQL server\n",
    "- Creating, modifying and deleting databases and database tables \n",
    "- SQL Data types and constraints (primary key, foreign key)\n",
    "- CRUD (Create, Read, Update and Delete) operations on tables\n",
    "- Exporting and importing data from relational databases"
   ]
  },
  {
   "cell_type": "markdown",
   "id": "9f7972fb",
   "metadata": {},
   "source": [
    "## Problem Statement\n",
    "\n",
    "We'll learn about relational database and SQL by working through the following problem ([source](https://www.mysqltutorial.org/mysql-sample-database.aspx)):\n",
    "\n",
    "> **QUESTION**: Classic Models Inc. is a manufacturer of small scale models of cars, motorcycles, planes, ships trains etc. Products manufactured by Classic Models are sold in toy & gift stores around the world. Here's a small sample of their products ([source](https://tinytown.in/)):\n",
    ">\n",
    "> ![](https://i.imgur.com/9F9WbbA.png)\n",
    "> \n",
    "> Classic Models has offices around the world with dozens of employees. The customers of Classic Models are typically toy/gift stores. Each customer has a designated sales representative (an employee of Classic Models) they interact with. Customers typically place orders requesting several products in different quantities and pay for multiple orders at once via cheques.\n",
    ">\n",
    "> Create a database to record and manage all of the above information. The database will also be used for day-to-day operations (adding customers, placing orders, recording payments, hiring employees etc.).\n",
    "\n"
   ]
  },
  {
   "cell_type": "markdown",
   "id": "00cfe45a",
   "metadata": {},
   "source": [
    "## Relational Databases\n",
    "\n",
    "There are many ways of storing data on a computer (text files, JSON files, CSV files, spreadsheets etc.). A relational database is a data storage system with the following properties:\n",
    "\n",
    "1. Data is stored in tables e.g., `customers`, `products`, `offices`, `employees`, etc..\n",
    "2. Each table has a set of columns. Each column is used to store a specific type of data.\n",
    "3. Data is stored as rows (also called records) within database tables.\n",
    "4. Tables support CRUD operations on rows: Create, Read, Update and Delete\n",
    "4. Table can be connected to other tables using relationship constraints (e.g. an employee works at a specific office).\n",
    "5. Information can be retrieved from the database using the Structured Query Language (SQL)\n",
    "6. Databases can be hosted locally (on your computer) or on the cloud, for distributed access.\n",
    "\n",
    "Here's what a table in a relational database looks like:\n",
    "\n",
    "<img src=\"https://i.imgur.com/dUDclY0.png\" width=\"400\">\n",
    "\n"
   ]
  },
  {
   "cell_type": "markdown",
   "id": "b44709a9",
   "metadata": {},
   "source": [
    "### Entity Relationship Diagrams\n",
    "\n",
    "While setting up a relational database, it's common to create an \"Entity Relationship Diagram\" (ERD) to describe all the tables within the database and the relations between them. ERDs can be created using drawing tools like [LucidChart](https://www.lucidchart.com/pages/how-to-draw-ERD). Here's the ERD for the Classic Models database:\n",
    "\n",
    "![](https://i.imgur.com/H6q1dAb.png)\n",
    "\n",
    "\n"
   ]
  },
  {
   "cell_type": "markdown",
   "id": "a0db5db2",
   "metadata": {},
   "source": [
    "### Relational Database Software\n",
    "\n",
    "There are several relational database software packages. Some are free and open source, while others are paid and proprietary. Here some popular relational database distributions:\n",
    "\n",
    "1. MySQL\n",
    "2. Postgres\n",
    "3. SQLite\n",
    "4. Microsoft SQL Server\n",
    "5. MariaDB\n",
    "6. Oracle\n",
    "7. IBM DB2\n",
    "\n",
    "For this tutorial, we'll use [MySQL](https://www.mysql.com/ ), a free and open source relational database.\n"
   ]
  },
  {
   "cell_type": "markdown",
   "id": "d00f0622",
   "metadata": {},
   "source": [
    "## Structured Query Language\n",
    "\n",
    "Structured Query Language or SQL is a programming language for interacting with relational databases. Unlike general purpose programming languages like Python, Java, C++ etc., SQL has a very limited syntax.\n",
    "\n",
    "<img src=\"https://i.imgur.com/D2oXI8Z.png\" width=\"480\">\n",
    "\n"
   ]
  },
  {
   "cell_type": "markdown",
   "id": "77254ec9",
   "metadata": {},
   "source": [
    "### SQL Statements and Syntax\n",
    "\n",
    "There are three types of SQL statements:\n",
    "\n",
    "**1. Data Definition Language(DDL):**\n",
    "The Data Definition Language contains commands that are less frequently used. DDL commands modify the actual structure of a database, rather than the database’s contents. example:\n",
    "- Generating a table\n",
    "- Modifying a structure of a table (altering)\n",
    "\n",
    "**2. Data Control Language(DCL):**\n",
    "The Data Control Language allows you to manipulate and manage user access rights on database objects. It consists of two commands: \n",
    "- the GRANT command, used to add database permissions for a user,\n",
    "- and the REVOKE command, used to remove existing permissions. \n",
    "\n",
    "These two commands form the core of the relational database security model.\n",
    "\n",
    "**3. Data Manipulation Language (DML):**\n",
    "Data Manipulation Language contains the subset of SQL commands used most frequently. It is used for searching, inserting, updating, and deleting data that we will see in this notebook.\n",
    "\n",
    "\n",
    "Some quick notes on the SQL syntax:\n",
    "\n",
    "- SQL is case insensitive. You can type statements in upper case, lowercase or a mixture of both\n",
    "- Database names can be typed with or without backquotes i.e. `classicmodels` or `` `classicmodels` ``\n",
    "- SQL statement can span over multiple lines and must end with a semicolon `;`\n",
    "- The statements in this tutorial can be executed on the MySQL command line or the workbench\n",
    "\n",
    "The SQL syntax for each relational database software package is slightly different. Check the official documentation of your DB for details."
   ]
  },
  {
   "cell_type": "markdown",
   "id": "9d642491",
   "metadata": {},
   "source": [
    "## Setting up MySQL Server Locally\n",
    "\n",
    "Install the following:\n",
    "\n",
    "- MySQL server: https://dev.mysql.com/downloads/mysql/\n",
    "- MySQL workbench: https://dev.mysql.com/downloads/workbench/\n",
    "\n",
    "You'll be asked to set a root password while installing MySQL server.\n",
    " \n",
    "**Note**: Make sure the password contains only numbers and alphabets. Avoid spaces/special characters in your password. \n",
    "\n",
    "To interact with the MySQL server via the terminal use:\n",
    "\n",
    "```\n",
    "$ /usr/local/mysql/bin/mysql -u root -p\n",
    "```\n",
    "\n",
    "Depending on your operating system the path `/usr/local/mysql/bin/mysql` may be different. If you're unable to connect, make sure that the server is running and you're using the correct password. \n",
    "\n",
    "Alternatively, the [MySQL Workbench](https://www.mysql.com/products/workbench/) can be used to interact with a MySQL server (local or remote) via a GUI.\n",
    "\n",
    "<img src=\"https://i.imgur.com/LaHS8x0.png\" width=\"640\" style=\"border-radius:4px\">\n",
    "\n"
   ]
  },
  {
   "cell_type": "markdown",
   "id": "6c9b9baf",
   "metadata": {},
   "source": [
    "## Working with Databases\n",
    "\n",
    "You can find all the SQL statements used in this tutorial in [this SQL file](https://drive.google.com/file/d/1QFVRlpQ0i6NNMLNQFfz4RDg6wWaV3h09/view?usp=sharing).\n",
    "\n",
    "Let's set up a database for Classic Models. We'll explore SQL statements for listing, creating and deleting databases along the way. \n",
    "\n"
   ]
  },
  {
   "cell_type": "markdown",
   "id": "cca333fb",
   "metadata": {},
   "source": [
    "### Listing Databases\n",
    "\n",
    "To display available databases, use the statement:\n",
    "\n",
    "```\n",
    "SHOW DATABASES;\n",
    "```\n",
    "\n",
    "Output:\n",
    "\n",
    "```\n",
    "+--------------------+\n",
    "| Database           |\n",
    "+--------------------+\n",
    "| information_schema |\n",
    "| mysql              |\n",
    "| performance_schema |\n",
    "| sys                |\n",
    "+--------------------+\n",
    "4 rows in set (0.01 sec)\n",
    "\n",
    "```\n",
    "\n",
    "\n"
   ]
  },
  {
   "cell_type": "markdown",
   "id": "2c17d749",
   "metadata": {},
   "source": [
    "### Creating Databases\n",
    "\n",
    "Databases can be created using the `CREATE DATABASE` statement.\n",
    "\n",
    "```\n",
    "CREATE DATABASE `classicmodels`;\n",
    "```\n",
    "\n",
    "Once created, the database should appear in the list of databases\n",
    "\n",
    "```\n",
    "SHOW DATABASES;\n",
    "```\n",
    "\n",
    "Output:\n",
    "\n",
    "```\n",
    "+--------------------+\n",
    "| Database           |\n",
    "+--------------------+\n",
    "| classicmodels      |\n",
    "| information_schema |\n",
    "| mysql              |\n",
    "| performance_schema |\n",
    "| sys                |\n",
    "+--------------------+\n",
    "5 rows in set (0.00 sec)\n",
    "```\n",
    "\n",
    "\n",
    "We can also conditionally create a database if it doesn't already exist using:\n",
    "\n",
    "\n",
    "```\n",
    "CREATE DATABASE IF NOT EXISTS `classicmodels`;\n",
    "```"
   ]
  },
  {
   "cell_type": "markdown",
   "id": "59a703a6",
   "metadata": {},
   "source": [
    "### Selecting a Database\n",
    "\n",
    "A database must be selected before it can be used. This is done with the `USE` statement.\n",
    "\n",
    "```\n",
    "USE `classicmodels`;\n",
    "```\n",
    "\n",
    "All future statements like listing tables, creating tables, inserting or querying data will use the selected database."
   ]
  },
  {
   "cell_type": "markdown",
   "id": "e84ae74b",
   "metadata": {},
   "source": [
    "### Deleting a Database\n",
    "\n",
    "To delete a database, use `DROP DATABASE`\n",
    "\n",
    "```\n",
    "DROP DATABASE `classicmodels`;\n",
    "```\n",
    "\n",
    "The database will no longer show up in the list of databases.\n",
    "\n",
    "```\n",
    "SHOW DATABASES;\n",
    "```\n",
    "\n",
    "Output:\n",
    "\n",
    "```\n",
    "+--------------------+\n",
    "| Database           |\n",
    "+--------------------+\n",
    "| information_schema |\n",
    "| mysql              |\n",
    "| performance_schema |\n",
    "| sys                |\n",
    "+--------------------+\n",
    "4 rows in set (0.01 sec)\n",
    "\n",
    "```\n",
    "\n"
   ]
  },
  {
   "cell_type": "markdown",
   "id": "7dae9812",
   "metadata": {},
   "source": [
    "> **EXERCISE**: Create, use and delete some databases using the commands covered in this section. Can you figure out how to rename an existing database?"
   ]
  },
  {
   "cell_type": "markdown",
   "id": "c4e4458e",
   "metadata": {},
   "source": [
    "Let's recreate the database before continuing:\n",
    "\n",
    "```\n",
    "CREATE DATABASE IF NOT EXISTS `classicmodels`;\n",
    "USE `classicmodels`;\n",
    "```\n"
   ]
  },
  {
   "cell_type": "markdown",
   "id": "da02cbed",
   "metadata": {},
   "source": [
    "## Working with Tables\n",
    "\n",
    "\n",
    "Let's create the tables for the Classic Models database according to the given Entity Relationship Diagram. We will also insert some data along the way.\n",
    "\n",
    "* Tables in a database can be listed using the `SHOW TABLES` statement\n",
    "* Tables are created using the `CREATE TABLE` statement\n",
    "* Tables are deleted using the `DROP TABLE` statement\n",
    "* You can view the structure of a table using the `DESCRIBE` statement\n",
    "* Data can be inserted into a table using the `INSERT INTO` statement\n",
    "\n",
    "While creating tables, we specify a list of columns and the data type for each column. \n",
    "\n",
    "```\n",
    "CREATE TABLE table_name (\n",
    "    column1 datatype,\n",
    "    column2 datatype,\n",
    "    column3 datatype,\n",
    "   ....\n",
    ");\n",
    "```\n",
    "\n",
    "\n"
   ]
  },
  {
   "cell_type": "markdown",
   "id": "ec984931",
   "metadata": {},
   "source": [
    "### SQL Data Types\n",
    "\n",
    "The following data types are supported in most relational databases ([source](https://www.journaldev.com/16774/sql-data-types)):\n",
    "\n",
    "<img src=\"https://www.journaldev.com/wp-content/uploads/2017/11/sql-data-types.png.webp\" width=\"640\">\n"
   ]
  },
  {
   "cell_type": "markdown",
   "id": "4d08f7c1",
   "metadata": {},
   "source": [
    "### Offices \n",
    "\n",
    "<img src=\"https://i.imgur.com/yzRs5YA.png\" width=\"160\">\n",
    "\n",
    "The offices table can be created as follows:\n",
    "\n",
    "```\n",
    "DROP TABLE IF EXISTS `offices`;\n",
    "\n",
    "CREATE TABLE `offices` (\n",
    "  `officeCode` varchar(10) NOT NULL,\n",
    "  `city` varchar(50) NOT NULL,\n",
    "  `phone` varchar(50) NOT NULL,\n",
    "  `addressLine1` varchar(50) NOT NULL,\n",
    "  `addressLine2` varchar(50),\n",
    "  `state` varchar(50),\n",
    "  `country` varchar(50) NOT NULL,\n",
    "  `postalCode` varchar(15) NOT NULL,\n",
    "  `territory` varchar(10) NOT NULL,\n",
    "  PRIMARY KEY (`officeCode`)\n",
    ");\n",
    "\n",
    "```\n",
    "\n",
    "**Primary Key**: Note that we've included a `PRIMARY KEY` constraint on the `officeCode` column. \n",
    "\n",
    "- The PRIMARY KEY constraint uniquely identifies each record in a table.\n",
    "\n",
    "- Primary keys must contain UNIQUE values, and cannot contain NULL values.\n",
    "\n",
    "- A table can have only ONE primary key constraint; and in the table, this primary key can consist of single or multiple columns (fields).\n",
    "\n",
    "\n",
    "We can check that the database is created using `SHOW TABLES;` and view information about it using `` DESCRIBE `offices`;``\n",
    "\n",
    "\n",
    "**Inserting Data**: We can insert some rows into the table using the `INSERT INTO` statement.\n",
    "\n",
    "\n",
    "```\n",
    "INSERT INTO `offices` \n",
    "\n",
    "(`officeCode`,`city`,`phone`,`addressLine1`,`addressLine2`,`state`,`country`,`postalCode`,`territory`) VALUES \n",
    "\n",
    "('1','San Francisco','+1 650 219 4782','100 Market Street','Suite 300','CA','USA','94080','NA'),\n",
    "\n",
    "('2','Boston','+1 215 837 0825','1550 Court Place','Suite 102','MA','USA','02107','NA'),\n",
    "\n",
    "('3','NYC','+1 212 555 3000','523 East 53rd Street','apt. 5A','NY','USA','10022','NA'),\n",
    "\n",
    "('4','Paris','+33 14 723 4404','43 Rue Jouffroy D\\'abbans',NULL,NULL,'France','75017','EMEA'),\n",
    "\n",
    "('5','Tokyo','+81 33 224 5000','4-1 Kioicho',NULL,'Chiyoda-Ku','Japan','102-8578','Japan'),\n",
    "\n",
    "('6','Sydney','+61 2 9264 2451','5-11 Wentworth Avenue','Floor #2',NULL,'Australia','NSW 2010','APAC'),\n",
    "\n",
    "('7','London','+44 20 7877 2041','25 Old Broad Street','Level 7',NULL,'UK','EC2N 1HN','EMEA');\n",
    "\n",
    "```\n",
    "\n",
    "The `INSERT` statement has the following general syntax:\n",
    "\n",
    "```\n",
    "INSERT INTO table_name(column_1, column_2,...) VALUES (value1_1,value1_2,...), (value2_1,value2_2,...), ...;\n",
    "```\n",
    "\n",
    "If you're inserting values for all the columns, you can skip the column names:\n",
    "\n",
    "```\n",
    "INSERT INTO table_name VALUES (value1_1, value1_2, ...), (value2_1,value2_2,...), ...;\n",
    "```\n",
    "\n",
    "\n",
    "**Viewing Data**: The simplest way to view data from the table is using the `SELECT` statement. It has the following syntax:\n",
    "\n",
    "```\n",
    "SELECT column1, column2, ... FROM table_name;\n",
    "```\n",
    "\n",
    "You can also view data from all columns using\n",
    "\n",
    "```\n",
    "SELECT * FROM `offices`;\n",
    "```\n",
    "\n"
   ]
  },
  {
   "cell_type": "markdown",
   "id": "70c5a20e",
   "metadata": {},
   "source": [
    "> **EXERCISES**:\n",
    ">\n",
    "> 1. Add some more entires into the `offices` table, using just the required (NOT NULL) columns. \n",
    "> 2. Explore what happens if you don't provide a value for a column marked as `not null`.\n",
    "> 3. Try adding an entry with a primary key matching the an existing entry.\n",
    "> 4. Retrieve and display just the city and phone number information for each office."
   ]
  },
  {
   "cell_type": "markdown",
   "id": "84836cbe",
   "metadata": {},
   "source": [
    "### Employees\n",
    "\n",
    "<img src=\"https://i.imgur.com/6zzMR8o.png\" width=\"200\">\n",
    "\n",
    "\n",
    "The employees table can be created using the following code:\n",
    "\n",
    "```\n",
    "DROP TABLE IF EXISTS `employees`;\n",
    "\n",
    "CREATE TABLE `employees` (\n",
    "  `employeeNumber` int(11) NOT NULL,\n",
    "  `lastName` varchar(50) NOT NULL,\n",
    "  `firstName` varchar(50) NOT NULL,\n",
    "  `extension` varchar(10) NOT NULL,\n",
    "  `email` varchar(100) NOT NULL,\n",
    "  `officeCode` varchar(10) NOT NULL,\n",
    "  `reportsTo` int(11) DEFAULT NULL,\n",
    "  `jobTitle` varchar(50) NOT NULL,\n",
    "  PRIMARY KEY (`employeeNumber`),\n",
    "  FOREIGN KEY (`reportsTo`) REFERENCES `employees` (`employeeNumber`),\n",
    "  FOREIGN KEY (`officeCode`) REFERENCES `offices` (`officeCode`)\n",
    ");\n",
    "\n",
    "```\n",
    "\n",
    "**Foreign Keys**:  A FOREIGN KEY is a field (or collection of fields) in one table, that refers to the PRIMARY KEY in another table.\n",
    "\n",
    "1. We've added a foreign key constraint for the the `officeCode` column, connecting it with the `offices` table. This ensure that we can't set an employee's `officeCode` to an invalid value.\n",
    "\n",
    "2. A foreign key constraint can also be established between a table and itself, as done in the case of the `reportsTo` column.\n",
    "\n",
    "\n",
    "\n",
    "\n",
    "**Inserting Data**: Let's insert some data into the table:\n",
    "\n",
    "```\n",
    "INSERT INTO `employees` VALUES\n",
    "(1002,'Murphy','Diane','x5800','dmurphy@classicmodelcars.com','1',NULL,'President'),\n",
    "(1056,'Patterson','Mary','x4611','mpatterso@classicmodelcars.com','1',1002,'VP Sales'),\n",
    "(1076,'Firrelli','Jeff','x9273','jfirrelli@classicmodelcars.com','1',1002,'VP Marketing'),\n",
    "(1088,'Patterson','William','x4871','wpatterson@classicmodelcars.com','6',1056,'Sales Manager (APAC)'),\n",
    "(1102,'Bondur','Gerard','x5408','gbondur@classicmodelcars.com','4',1056,'Sale Manager (EMEA)'),\n",
    "(1143,'Bow','Anthony','x5428','abow@classicmodelcars.com','1',1056,'Sales Manager (NA)'),\n",
    "(1165,'Jennings','Leslie','x3291','ljennings@classicmodelcars.com','1',1143,'Sales Rep'),\n",
    "(1166,'Thompson','Leslie','x4065','lthompson@classicmodelcars.com','1',1143,'Sales Rep'),\n",
    "(1188,'Firrelli','Julie','x2173','jfirrelli@classicmodelcars.com','2',1143,'Sales Rep'),\n",
    "(1216,'Patterson','Steve','x4334','spatterson@classicmodelcars.com','2',1143,'Sales Rep'),\n",
    "(1286,'Tseng','Foon Yue','x2248','ftseng@classicmodelcars.com','3',1143,'Sales Rep'),\n",
    "(1323,'Vanauf','George','x4102','gvanauf@classicmodelcars.com','3',1143,'Sales Rep'),\n",
    "(1337,'Bondur','Loui','x6493','lbondur@classicmodelcars.com','4',1102,'Sales Rep'),\n",
    "(1370,'Hernandez','Gerard','x2028','ghernande@classicmodelcars.com','4',1102,'Sales Rep'),\n",
    "(1401,'Castillo','Pamela','x2759','pcastillo@classicmodelcars.com','4',1102,'Sales Rep'),\n",
    "(1501,'Bott','Larry','x2311','lbott@classicmodelcars.com','7',1102,'Sales Rep'),\n",
    "(1504,'Jones','Barry','x102','bjones@classicmodelcars.com','7',1102,'Sales Rep'),\n",
    "(1611,'Fixter','Andy','x101','afixter@classicmodelcars.com','6',1088,'Sales Rep'),\n",
    "(1612,'Marsh','Peter','x102','pmarsh@classicmodelcars.com','6',1088,'Sales Rep'),\n",
    "(1619,'King','Tom','x103','tking@classicmodelcars.com','6',1088,'Sales Rep'),\n",
    "(1621,'Nishi','Mami','x101','mnishi@classicmodelcars.com','5',1056,'Sales Rep'),\n",
    "(1625,'Kato','Yoshimi','x102','ykato@classicmodelcars.com','5',1621,'Sales Rep'),\n",
    "(1702,'Gerard','Martin','x2312','mgerard@classicmodelcars.com','4',1102,'Sales Rep');\n",
    "\n",
    "```\n",
    "\n",
    "\n",
    "\n"
   ]
  },
  {
   "cell_type": "markdown",
   "id": "3804d42d",
   "metadata": {},
   "source": [
    "> **EXERCISES**: \n",
    "> \n",
    "> 1. Try inserting an entry into `employees` with an invalid value for `officeCode`.\n",
    "> 2. Try inserting an entry into `employees` with an invalid value for `reportsTo`.\n",
    "> 3. Create a new office location and add some employees for the new location.\n"
   ]
  },
  {
   "cell_type": "markdown",
   "id": "525cfbe1",
   "metadata": {},
   "source": [
    "### Customers\n",
    "\n",
    "<img src=\"https://i.imgur.com/q3hsooX.png\" width=\"200\">\n",
    "\n",
    "\n",
    "The customers table can be created using the following code:\n",
    "\n",
    "```\n",
    "CREATE TABLE IF NOT EXISTS `customers` (\n",
    "  `customerNumber` INT(11) NOT NULL,\n",
    "  `customerName` VARCHAR(50) NOT NULL,\n",
    "  `contactLastName` VARCHAR(50) NOT NULL,\n",
    "  `contactFirstName` VARCHAR(50) NOT NULL,\n",
    "  `phone` VARCHAR(50) NOT NULL,\n",
    "  `addressLine1` VARCHAR(50) NOT NULL,\n",
    "  `addressLine2` VARCHAR(50) NULL DEFAULT NULL,\n",
    "  `city` VARCHAR(50) NOT NULL,\n",
    "  `state` VARCHAR(50) NULL DEFAULT NULL,\n",
    "  `postalCode` VARCHAR(15) NULL DEFAULT NULL,\n",
    "  `country` VARCHAR(50) NOT NULL,\n",
    "  `salesRepEmployeeNumber` INT(11) NULL,\n",
    "  `creditLimit` DOUBLE NULL DEFAULT NULL,\n",
    "  `customerLocation` POINT NOT NULL,\n",
    "  PRIMARY KEY (`customerNumber`),\n",
    "  FOREIGN KEY (`salesRepEmployeeNumber`) REFERENCES `employees` (`employeeNumber`));\n",
    "```"
   ]
  },
  {
   "cell_type": "markdown",
   "id": "c6f50dbc",
   "metadata": {},
   "source": [
    "> **EXERCISE**: Add some customers to the database using the data from this SQL file: https://raw.githubusercontent.com/harsha547/ClassicModels-Database-Queries/master/database.sql"
   ]
  },
  {
   "cell_type": "markdown",
   "id": "8a665b04",
   "metadata": {},
   "source": [
    "### Querying with `WHERE`\n",
    "\n",
    "We can add a `WHERE` clause to a `SELECT` statement to select just the rows satisfying the given clause. Here's an example:\n",
    "\n",
    "\n",
    "```\n",
    "SELECT * FROM `employees` WHERE `jobTitle`=\"Sales Rep\";\n",
    "```\n",
    "\n",
    "Note that values with spaces must be placed within quotes e.g. `\"Sales Rep\"`.  \n",
    "\n",
    "\n",
    "The `WHERE` clause supports the following operators:\n",
    "\n",
    "- `=`\n",
    "- `>`\n",
    "- `<`\n",
    "- `>=`\n",
    "- `<=`\n",
    "- `<>` or `!=`\n",
    "- `BETWEEN`\n",
    "- [`LIKE`](https://www.w3schools.com/mysql/mysql_like.asp)\n",
    "- `IN`\n",
    "\n",
    "Expressions within a `WHERE` clause can be combined using `AND` and `OR`.\n",
    "\n",
    "```\n",
    "SELECT column1, column2, ...\n",
    "FROM table_name\n",
    "WHERE condition1 AND condition2 AND condition3 ...;\n",
    "```\n",
    "\n",
    "\n",
    "An expression within a `WHERE` clause can be negated using `NOT`.\n",
    "\n",
    "```\n",
    "SELECT column1, column2, ...\n",
    "FROM table_name\n",
    "WHERE NOT condition;\n",
    "```\n",
    "\n",
    "\n",
    "\n",
    "You can use a `WHERE` clause with SELECT, [UPDATE](https://www.w3schools.com/mysql/mysql_update.asp), and [DELETE](https://www.w3schools.com/mysql/mysql_delete.asp) statements.\n",
    "\n",
    "\n",
    "\n"
   ]
  },
  {
   "cell_type": "markdown",
   "id": "ec0f7403",
   "metadata": {},
   "source": [
    "> **EXERCISES**:\n",
    "> \n",
    "> 1. List the customers in the United States with a credit limit higher than \\\\$1000.\n",
    "> 2. List the employee codes for sales representatives of customers in Spain, France and Italy. Make another query to list the names and email addresses of those employees.\n",
    "> 3. Change the job title \"Sales Rep\" to \"Sales Representative\"\n",
    "> 4. Delete the entries for Sales Representatives working in London.\n",
    "> 5. Show a list of employees who are not sales representatives\n",
    "> 6. Show a list of customers with \"Toys\" in their name"
   ]
  },
  {
   "cell_type": "markdown",
   "id": "39d7637f",
   "metadata": {},
   "source": [
    "### Product Lines and Products\n",
    "\n",
    "<img src=\"https://i.imgur.com/DHZjuf3.png\" width=\"200\">\n",
    "\n",
    "The Product Lines table can be created as follows:\n",
    "\n",
    "```\n",
    "DROP TABLE IF EXISTS `productlines`;\n",
    "\n",
    "CREATE TABLE `productlines` (\n",
    "  `productLine` varchar(50) NOT NULL,\n",
    "  `textDescription` varchar(4000) DEFAULT NULL,\n",
    "  `htmlDescription` mediumtext,\n",
    "  `image` mediumblob,\n",
    "  PRIMARY KEY (`productLine`)\n",
    ");\n",
    "\n",
    "```\n",
    "\n",
    "The Products table can be created as follows:\n",
    "\n",
    "```\n",
    "DROP TABLE IF EXISTS `products`;\n",
    "\n",
    "CREATE TABLE `products` (\n",
    "  `productCode` varchar(15) NOT NULL,\n",
    "  `productName` varchar(70) NOT NULL,\n",
    "  `productLine` varchar(50) NOT NULL,\n",
    "  `productScale` varchar(10) NOT NULL,\n",
    "  `productVendor` varchar(50) NOT NULL,\n",
    "  `productDescription` text NOT NULL,\n",
    "  `quantityInStock` smallint(6) NOT NULL,\n",
    "  `buyPrice` decimal(10,2) NOT NULL,\n",
    "  `MSRP` decimal(10,2) NOT NULL,\n",
    "  PRIMARY KEY (`productCode`),\n",
    "  CONSTRAINT `products_ibfk_1` FOREIGN KEY (`productLine`) REFERENCES `productlines` (`productLine`)\n",
    ");\n",
    "\n",
    "```\n",
    "\n",
    "\n",
    "> **EXERCISE**: Add some product lines and products from this SQL file: https://raw.githubusercontent.com/harsha547/ClassicModels-Database-Queries/master/database.sql"
   ]
  },
  {
   "cell_type": "markdown",
   "id": "4649a078",
   "metadata": {},
   "source": [
    "### `ORDER BY` and `LIMIT`\n",
    "\n",
    "The results of a Select statement can be ordered using the `ORDER BY` clause:\n",
    "\n",
    "```\n",
    "SELECT column1, column2, ...\n",
    "FROM table_name\n",
    "ORDER BY column1, column2, ... ASC|DESC;\n",
    "```\n",
    "\n",
    "To limit the number of results, use the `LIMIT` clause:\n",
    "\n",
    "```\n",
    "SELECT column_name(s)\n",
    "FROM table_name\n",
    "WHERE condition\n",
    "LIMIT number;\n",
    "```"
   ]
  },
  {
   "cell_type": "markdown",
   "id": "95295f68",
   "metadata": {},
   "source": [
    "> **EXERCISES**:\n",
    ">\n",
    "> 1. List the 5 most expensive products from the \"Planes\" product line\n",
    "> 2. Identify the products that are about to run out of stock (quantity in stock < 100)\n",
    "> 3. List 10 products in the \"Motorcycles\" category with the lowest buy price and more than 1000 units in stock\n",
    "\n",
    "> **Answers**:\n",
    ">\n",
    ">1. select * from products where productLine='Planes' order by MSRP DESC limit 5;\n",
    ">2. select * from products where quantityInStock<100;\n",
    ">3. select * from products where productLine='Motorcycles' and quantityInStock>1000 order by buyPrice;"
   ]
  },
  {
   "cell_type": "markdown",
   "id": "ba29fd4c",
   "metadata": {},
   "source": [
    "### Orders, Order Details and Payments\n",
    "\n",
    "<img src=\"https://i.imgur.com/Z0LMhwq.png\" width=\"420\">\n",
    "\n",
    "\n",
    "<img src=\"https://i.imgur.com/2RtNwo1.png\" width=\"200\">\n",
    "\n",
    "> **EXERCISE**: Create the Orders, Order Details and Payments tables using the `CREATE TABLE` statement. Include proper primary key and foreign key constraints. Add some data into each of the tables ([sample data](https://raw.githubusercontent.com/harsha547/ClassicModels-Database-Queries/master/database.sql)). \n"
   ]
  },
  {
   "cell_type": "markdown",
   "id": "e3751b4f",
   "metadata": {},
   "source": [
    "```\n",
    "-- -----------------------------------------------------\n",
    "-- Table `ClassicModels`.`Orders`\n",
    "-- -----------------------------------------------------\n",
    "CREATE TABLE IF NOT EXISTS `ClassicModels`.`Orders` (\n",
    "  `orderNumber` INT(11) NOT NULL,\n",
    "  `orderDate` DATETIME NOT NULL,\n",
    "  `requiredDate` DATETIME NOT NULL,\n",
    "  `shippedDate` DATETIME NULL DEFAULT NULL,\n",
    "  `status` VARCHAR(15) NOT NULL,\n",
    "  `comments` TEXT NULL DEFAULT NULL,\n",
    "  `customerNumber` INT(11) NOT NULL,\n",
    "  PRIMARY KEY (`orderNumber`),\n",
    "  INDEX `fk_Orders_Customers_idx` (`customerNumber` ASC),\n",
    "  CONSTRAINT `fk_Orders_Customers`\n",
    "    FOREIGN KEY (`customerNumber`)\n",
    "    REFERENCES `ClassicModels`.`Customers` (`customerNumber`)\n",
    "    ON DELETE NO ACTION\n",
    "    ON UPDATE NO ACTION)\n",
    "ENGINE = InnoDB\n",
    "DEFAULT CHARACTER SET = utf8mb3;\n",
    "\n",
    "\n",
    "-- -----------------------------------------------------\n",
    "-- Table `ClassicModels`.`OrderDetails`\n",
    "-- -----------------------------------------------------\n",
    "CREATE TABLE IF NOT EXISTS `ClassicModels`.`OrderDetails` (\n",
    "  `orderNumber` INT(11) NOT NULL,\n",
    "  `productCode` VARCHAR(15) NOT NULL,\n",
    "  `quantityOrdered` INT(11) NOT NULL,\n",
    "  `priceEach` DOUBLE NOT NULL,\n",
    "  `orderLineNumber` SMALLINT(6) NOT NULL,\n",
    "  PRIMARY KEY (`productCode`, `orderNumber`),\n",
    "  INDEX `fk_OrderDetails_Products_idx` (`productCode` ASC),\n",
    "  INDEX `fk_OrderDetails_Orders_idx` (`orderNumber` ASC),\n",
    "  CONSTRAINT `fk_OrderDetails_Products`\n",
    "    FOREIGN KEY (`productCode`)\n",
    "    REFERENCES `ClassicModels`.`Products` (`productCode`)\n",
    "    ON DELETE NO ACTION\n",
    "    ON UPDATE NO ACTION,\n",
    "  CONSTRAINT `fk_OrderDetails_Orders`\n",
    "    FOREIGN KEY (`orderNumber`)\n",
    "    REFERENCES `ClassicModels`.`Orders` (`orderNumber`)\n",
    "    ON DELETE NO ACTION\n",
    "    ON UPDATE NO ACTION)\n",
    "ENGINE = InnoDB\n",
    "DEFAULT CHARACTER SET = utf8mb3;\n",
    "\n",
    "\n",
    "-- -----------------------------------------------------\n",
    "-- Table `ClassicModels`.`Payments`\n",
    "-- -----------------------------------------------------\n",
    "CREATE TABLE IF NOT EXISTS `ClassicModels`.`Payments` (\n",
    "  `checkNumber` VARCHAR(50) NOT NULL,\n",
    "  `paymentDate` DATETIME NOT NULL,\n",
    "  `amount` DOUBLE NOT NULL,\n",
    "  `customerNumber` INT(11) NOT NULL,\n",
    "  PRIMARY KEY (`checkNumber`),\n",
    "  INDEX `fk_Payments_Customers_idx` (`customerNumber` ASC),\n",
    "  CONSTRAINT `fk_Payments_Customers`\n",
    "    FOREIGN KEY (`customerNumber`)\n",
    "    REFERENCES `ClassicModels`.`Customers` (`customerNumber`)\n",
    "    ON DELETE NO ACTION\n",
    "    ON UPDATE NO ACTION)\n",
    "ENGINE = InnoDB\n",
    "DEFAULT CHARACTER SET = utf8mb3;\n",
    "\n",
    "```"
   ]
  },
  {
   "cell_type": "markdown",
   "id": "ff31c483",
   "metadata": {},
   "source": [
    " ## Modifying Table Structure\n",
    " \n",
    "The structure of the table can be modified using `ALTER TABLE`\n",
    " \n",
    "Adding a new column to a table: \n",
    " \n",
    "```\n",
    "ALTER TABLE table_name ADD column_name datatype;\n",
    "```\n",
    "\n",
    "Removing a column from a table:\n",
    "\n",
    "```\n",
    "ALTER TABLE table_name DROP COLUMN column_name;\n",
    "```\n",
    "\n",
    "Changing the data type of a column:\n",
    "\n",
    "```\n",
    "ALTER TABLE table_name MODIFY COLUMN column_name datatype;\n",
    "```\n",
    "\n",
    "Renaming a column:\n",
    "\n",
    "```\n",
    "ALTER TABLE table_name RENAME COLUMN old_column_name TO new_column_name;\n",
    "```\n"
   ]
  },
  {
   "cell_type": "markdown",
   "id": "f5bd6f4f",
   "metadata": {},
   "source": [
    "> **EXERCISE**: Add, remove and modify one column in each of the tables created above. What happens when you rename or remove a column that is a primary key?\n"
   ]
  },
  {
   "cell_type": "markdown",
   "id": "98a4644e",
   "metadata": {},
   "source": [
    "## Importing and Exporting SQL\n",
    "\n",
    "Multiple SQL commands can be placed into a `.sql` file ([like this one](https://raw.githubusercontent.com/harsha547/ClassicModels-Database-Queries/master/database.sql)) and can be executed together using the `msql` console or workbench.\n",
    "\n",
    "```\n",
    "$ /usr/local/mysql/bin/mysql -u root -p < database.sql\n",
    "```\n",
    "\n",
    "This is a great way to import data into a SQL database.\n",
    "\n",
    "\n",
    "To export a database as a SQL file, use the `mysqldump` utility:\n",
    "\n",
    "```\n",
    "$ /usr/local/mysql/mysqldump --add-drop-table -u admin dbname -p > dbname.sql\n",
    "```\n",
    "\n"
   ]
  },
  {
   "cell_type": "markdown",
   "id": "5c0afd69",
   "metadata": {},
   "source": [
    "> **EXERCISES**: Perform the following operations, in the given order:\n",
    "> \n",
    "> 1. Download [this SQL file](https://drive.google.com/file/d/1QFVRlpQ0i6NNMLNQFfz4RDg6wWaV3h09/view?usp=sharing) and import data from your local installation of the MySQL server.\n",
    "> 2. Export the `classicmodels` database into a SQL file. Compare it with the originally imported SQL file. \n",
    "> 3. Drop the `classicmodels` database and recreate it using the exported SQL file."
   ]
  },
  {
   "cell_type": "markdown",
   "id": "88ac3468",
   "metadata": {},
   "source": [
    "## SQL Challenges\n",
    "\n",
    "Set up the Classic Models dataset locally with example data using the SQL script: https://raw.githubusercontent.com/harsha547/ClassicModels-Database-Queries/master/database.sql\n",
    "\n",
    "1. Prepare a list of offices sorted by country, state, city.\n",
    "\n",
    "```\n",
    "                    select * from offices order by country, state, city;\n",
    "```\n",
    "\n",
    "\n",
    "2. How many employees are there in the company?\n",
    "\n",
    "```\n",
    "                    select count(firstName) from employees;\n",
    "```\n",
    "\n",
    "\n",
    "3. What is the total of payments received?\n",
    "\n",
    "```\n",
    "                    select sum(amount) from payments;\n",
    "```\n",
    "\n",
    "\n",
    "4. List the product lines that contain 'Cars'.\n",
    "\n",
    "```\n",
    "                    select productLine from productlines where productline LIKE '%Cars%';\n",
    "\n",
    "```\n",
    "\n",
    "\n",
    "5. Report total payments for October 28, 2004.\n",
    "\n",
    "```\n",
    "                    SELECT sum(amount) FROM `payments` WHERE paymentDate='2004-10-28';\n",
    "```\n",
    "\n",
    "\n",
    "6. Report those payments greater than \\\\$100,000.\n",
    "\n",
    "```\n",
    "                    SELECT * FROM `payments` WHERE amount>100000;\n",
    "```\n",
    "\n",
    "\n",
    "7. List the products in each product line.\n",
    "\n",
    "```\n",
    "                    SELECT productLine,productName FROM products ORDER BY productLine;\n",
    "```\n",
    "\n",
    "\n",
    "8. How many products in each product line?\n",
    "\n",
    "```\n",
    "                    SELECT productLine,count(*) As 'Count_Of_Products' FROM products GROUP BY productLine ORDER BY count(*) DESC;\n",
    "```\n",
    "\n",
    "\n",
    "9. What is the minimum payment received?\n",
    "\n",
    "```\n",
    "                    SELECT min(amount) As 'Minimum Payment' FROM payments;\n",
    "```\n",
    "\n",
    "\n",
    "10. List all payments greater than twice the average payment.\n",
    "\n",
    "```\n",
    "                    select * from payments where amount>2*(select avg(amount) from payments);\n",
    "```\n",
    "\n",
    "\n",
    "11. What is the average percentage markup of the MSRP on buyPrice?\n",
    "\n",
    "```\n",
    "                    select AVG((MSRP-buyPrice)/MSRP)*100 AS 'Average Percentage Markup' from products;\n",
    "```\n",
    "\n",
    "\n",
    "12. How many distinct products does ClassicModels sell?\n",
    "\n",
    "```\n",
    "                    SELECT count(distinct productName) as disctinct_products FROM `products`;\n",
    "```\n",
    "\n",
    "\n",
    "13. Report the name and city of customers who don't have sales representatives?\n",
    "\n",
    "```\n",
    "                    select customerName,city from customers where salesRepEmployeeNumber is null;\n",
    "```\n",
    "\n",
    "\n",
    "14. What are the names of executives with VP or Manager in their title? Use the CONCAT function to combine the employee's first name and last name into a single field for reporting.\n",
    "\n",
    "```\n",
    "SELECT concat(firstName,' ',lastname) as Full_Name,jobTitle FROM `employees` WHERE jobTitle LIKE '%VP%' OR jobTitle LIKE '%Manager%';\n",
    "```\n",
    "\n",
    "\n",
    "15. Which orders have a value greater than $5,000?\n",
    "\n",
    "```\n",
    "SELECT *,quantityOrdered*priceEach as total FROM `orderdetails` WHERE quantityOrdered*priceEach>5000;\n",
    "```\n",
    "\n",
    "[Solution](https://github.com/harsha547/ClassicModels-Database-Queries/tree/master/challenges)"
   ]
  },
  {
   "cell_type": "markdown",
   "id": "a331f00e",
   "metadata": {},
   "source": [
    "## Summary and Further Reading\n",
    "\n",
    "The following topics were covered in this tutorial:\n",
    "\n",
    "- Use cases and design of relational databases and SQL\n",
    "- Installation of MySQL and setting up a database locally\n",
    "- Creating, modifying and deleting databases and database tables \n",
    "- SQL Data types and constraints (primary key, foreign key)\n",
    "- CRUD (Create, Read, Update and Delete) operations on tables\n",
    "- Exporting and importing data from relational databases\n",
    "\n",
    "\n",
    "Check out the following resources to learn more:\n",
    "\n",
    "- ClassicModels Database: https://www.mysqltutorial.org/mysql-sample-database.aspx \n",
    "- SQL Tutorial: https://www.w3schools.com/sql/default.Asp\n",
    "- SQL Books & Slides: https://www.db-book.com/slides-dir/index.html\n",
    "- SQL Exercises: https://www.w3resource.com/sql-exercises/\n",
    "- MySQL Reference Manual: https://dev.mysql.com/doc/refman/8.0/en/\n",
    "\n",
    "\n",
    "In the next tutorial, we'll cover the following topics:\n",
    "\n",
    "- Using functions for advanced querying on strings dates, timestamps etc.\n",
    "- Aggregating data using COUNT, AVERAGE, SUM, MIN, MAX etc.\n",
    "- Using joins to combine and query data from multiple tables at once\n",
    "- Improving query performance with keys, indexes and transactions\n",
    "- Connecting to SQL database from Python for querying and visualization in Jupyter"
   ]
  },
  {
   "cell_type": "code",
   "execution_count": 1,
   "id": "0185ed93",
   "metadata": {},
   "outputs": [
    {
     "name": "stderr",
     "output_type": "stream",
     "text": [
      "  WARNING: The script jovian.exe is installed in 'C:\\Users\\Rajat\\AppData\\Roaming\\Python\\Python311\\Scripts' which is not on PATH.\n",
      "  Consider adding this directory to PATH or, if you prefer to suppress this warning, use --no-warn-script-location.\n"
     ]
    }
   ],
   "source": [
    "!pip install jovian --upgrade --quiet"
   ]
  },
  {
   "cell_type": "code",
   "execution_count": 2,
   "id": "93ef563e",
   "metadata": {},
   "outputs": [
    {
     "data": {
      "application/javascript": "if (window.IPython && IPython.notebook.kernel) IPython.notebook.kernel.execute('jovian.utils.jupyter.get_notebook_name_saved = lambda: \"' + IPython.notebook.notebook_name + '\"')",
      "text/plain": [
       "<IPython.core.display.Javascript object>"
      ]
     },
     "metadata": {},
     "output_type": "display_data"
    }
   ],
   "source": [
    "import jovian"
   ]
  },
  {
   "cell_type": "code",
   "execution_count": 4,
   "id": "bac30178",
   "metadata": {},
   "outputs": [
    {
     "data": {
      "application/javascript": "window.require && require([\"base/js/namespace\"],function(Jupyter){Jupyter.notebook.save_checkpoint()})",
      "text/plain": [
       "<IPython.core.display.Javascript object>"
      ]
     },
     "metadata": {},
     "output_type": "display_data"
    },
    {
     "name": "stdout",
     "output_type": "stream",
     "text": [
      "[jovian] Please enter your API key ( from https://jovian.com/ ):\u001b[0m\n",
      "API KEY:"
     ]
    }
   ],
   "source": [
    "jovian.commit(filename='relational-databases-and-sql.ipynb')"
   ]
  },
  {
   "cell_type": "markdown",
   "id": "b1accade",
   "metadata": {},
   "source": [
    "## Revision Questions\n",
    "1.\tWhat are Relational databases?\n",
    "2.\tWhat are the properties of relational databases?\n",
    "3.\tWhat is an ERD?\n",
    "4.\tWhat are few relational databases software packages?\n",
    "5.\tWhat is SQL?\n",
    "6.\tWhat are SQL statements?\n",
    "7.\tHow to list all the available databases?\n",
    "8.\tWhat is the syntax to create a new database?\n",
    "9.\tHow to select a database to in order to use it?\n",
    "10.\tWhat is the syntax to delete a database?\n",
    "11.\tWhat is the syntax to rename an existing database?\n",
    "12.\tWhat is the syntax to check if a database exists or not?\n",
    "13.\tHow to view structure of a table?\n",
    "14.\tWhat are the different SQL data types?\n",
    "15.\tWhat is a <code>PRIMARY KEY</code>? What are the properties of a <code>PRIMARY KEY</code>?\n",
    "16.\tWhat is a <code>FOREIGN KEY</code>?\n",
    "17.\tWhat is <code>REFERENCES</code> clause in SQL?\n",
    "18.\tWhat is a <code>CONSTRAINT</code> in SQL?\n",
    "19.\tHow to view data in a table?\n",
    "20.\tHow to add new rows of data in SQL?\n",
    "21.\tWhat operators does <code>WHERE</code> clause support?\n",
    "22.\tHow to combine expressions within a <code>WHERE</code> clause?\n",
    "23.\tWhat does <code>ORDERY BY</code> clause do in SQL?\n",
    "24.\tWhat does <code>LIMIT</code> clause do SQL?\n",
    "25.\tHow to modify a table structure?\n",
    "26.\tHow to change data type of a column?\n",
    "27.\tHow to add new column to the table?\n",
    "28.\tHow to rename a column in SQL?\n",
    "29.\tHow to import data into SQL database?\n",
    "30.\tHow to export data from SQL database?"
   ]
  },
  {
   "cell_type": "markdown",
   "id": "885dcb0c",
   "metadata": {},
   "source": [
    "## Solutions for Exercises"
   ]
  },
  {
   "cell_type": "markdown",
   "id": "55396fc3",
   "metadata": {},
   "source": [
    "> **EXERCISE**: Create, use and delete some databases using the commands covered in this section. Can you figure out how to rename an existing database?"
   ]
  },
  {
   "cell_type": "markdown",
   "id": "df4fc857",
   "metadata": {},
   "source": [
    "#### Create\n",
    "```\n",
    "CREATE DATABASE `jovian_data`;\n",
    "```\n",
    "```\n",
    "SHOW DATABASES;\n",
    "```\n",
    "\n",
    "Output:\n",
    "\n",
    "```\n",
    "+--------------------+\n",
    "| Database           |\n",
    "+--------------------+\n",
    "| classicmodels      |\n",
    "| information_schema\n",
    "| jovian_data\n",
    "| mysql              |\n",
    "| performance_schema |\n",
    "| sys                |\n",
    "+--------------------+\n",
    "6 rows in set (0.00 sec)\n",
    "```\n",
    "#### Use\n",
    "```\n",
    "USE `jovian_data`\n",
    "```\n",
    "\n",
    "#### Delete\n",
    "```\n",
    "DROP DATABASE `jovian_data`\n",
    "```"
   ]
  },
  {
   "cell_type": "markdown",
   "id": "d752b307",
   "metadata": {},
   "source": [
    "To rename the existing database - you can create a new database exactly as the old database with a different name and then drop the old database. Renaming database query has been disabled in new versions of MySQL due to security risks."
   ]
  },
  {
   "cell_type": "markdown",
   "id": "038a5f56",
   "metadata": {},
   "source": [
    "> **EXERCISES**:\n",
    ">\n",
    "> 1. Add some more entires into the `offices` table, using just the required (NOT NULL) columns. \n",
    "> 2. Explore what happens if you don't provide a value for a column marked as `not null`.\n",
    "> 3. Try adding an entry with a primary key matching the an existing entry.\n",
    "> 4. Retrieve and display just the city and phone number information for each office."
   ]
  },
  {
   "cell_type": "markdown",
   "id": "aa54c59b",
   "metadata": {},
   "source": [
    "> 1. Add some more entires into the `offices` table, using just the required (NOT NULL) columns. \n",
    "\n",
    "```\n",
    "DESCRIBE offices;\n",
    "\n",
    "```"
   ]
  },
  {
   "cell_type": "markdown",
   "id": "8170e1bf",
   "metadata": {},
   "source": [
    "```\n",
    "INSERT INTO offices (officeCode, city, phone, addressline1, country, postalCode,territory,officelocation)\n",
    "VALUES ('jovian', 'Bengaluru', '+919744324587', '34/7, Koramangal', 'India', '560010','South',POINT(1,2));\n",
    "```"
   ]
  },
  {
   "cell_type": "markdown",
   "id": "60ba53ef",
   "metadata": {},
   "source": [
    "> 2. Explore what happens if you don't provide a value for a column marked as `not null`."
   ]
  },
  {
   "cell_type": "markdown",
   "id": "605d1b45",
   "metadata": {},
   "source": [
    "```\n",
    "INSERT INTO offices (city,phone,addressline1,country,postalcode,territory)\n",
    "VALUES('Hyderabad','+919733345588','32/4, Oldcity', 'India','432201','East');\n",
    "```"
   ]
  },
  {
   "cell_type": "markdown",
   "id": "308f0b43",
   "metadata": {},
   "source": [
    "``` Error Code: 1364. Field 'officeCode' doesn't have a default value ```"
   ]
  },
  {
   "cell_type": "markdown",
   "id": "a29c31a3",
   "metadata": {},
   "source": [
    "> 3. Try adding an entry with a primary key matching the an existing entry."
   ]
  },
  {
   "cell_type": "markdown",
   "id": "2b948b8b",
   "metadata": {},
   "source": [
    "```\n",
    "INSERT INTO offices (officeCode, city, phone, addressline1, country, postalCode,territory,officelocation)\n",
    "VALUES ('jovian', 'Chennai', '+919744323487', '3/7, Beach', 'India', '560220','South',POINT(3,2));\n",
    "```"
   ]
  },
  {
   "cell_type": "markdown",
   "id": "fa1c0dcb",
   "metadata": {},
   "source": [
    "```Error Code: 1062. Duplicate entry 'jovian' for key 'offices.PRIMARY'```"
   ]
  },
  {
   "cell_type": "markdown",
   "id": "4bf9011e",
   "metadata": {},
   "source": [
    "> 4. Retrieve and display just the city and phone number information for each office."
   ]
  },
  {
   "cell_type": "markdown",
   "id": "e14bdaaf",
   "metadata": {},
   "source": [
    "```\n",
    "SELECT city, phone FROM offices;\n",
    "```"
   ]
  },
  {
   "cell_type": "markdown",
   "id": "3ce4bc8b",
   "metadata": {},
   "source": [
    "> **EXERCISES**: \n",
    "> \n",
    "> 1. Try inserting an entry into `employees` with an invalid value for `officeCode`.\n",
    "> 2. Try inserting an entry into `employees` with an invalid value for `reportsTo`.\n",
    "> 3. Create a new office location and add some employees for the new location."
   ]
  },
  {
   "cell_type": "markdown",
   "id": "e2bbd7b3",
   "metadata": {},
   "source": [
    "> 1. Try inserting an entry into `employees` with an invalid value for `officeCode`."
   ]
  },
  {
   "cell_type": "markdown",
   "id": "d97cebdf",
   "metadata": {},
   "source": [
    "```\n",
    "INSERT INTO employees (employeeNumber, lastname, firstname, extension, email, reportsTo,jobTitle,officeCode)\n",
    "VALUES (2, 'Bruce', 'Wayne', 'jovian.ai', 'bruce@jovian.ai', 1002,'CEO',12012);\n",
    "```"
   ]
  },
  {
   "cell_type": "markdown",
   "id": "c41dec14",
   "metadata": {},
   "source": [
    "```Error Code: 1452. Cannot add or update a child row: a foreign key constraint fails (`classicmodels`.`employees`, CONSTRAINT `fk_Employees_Offices` FOREIGN KEY (`officeCode`) REFERENCES `offices` (`officeCode`))```"
   ]
  },
  {
   "cell_type": "markdown",
   "id": "7b00c873",
   "metadata": {},
   "source": [
    "> 2. Try inserting an entry into `employees` with an invalid value for `reportsTo`."
   ]
  },
  {
   "cell_type": "markdown",
   "id": "a3aab593",
   "metadata": {},
   "source": [
    "```\n",
    "INSERT INTO employees (employeeNumber, lastname, firstname, extension, email, reportsTo,jobTitle,officeCode)\n",
    "VALUES (2, 'Bruce', 'Wayne', 'jovian.ai', 'bruce@jovian.ai', 1234,'CEO',123);\n",
    "```"
   ]
  },
  {
   "cell_type": "markdown",
   "id": "3fe0ffaa",
   "metadata": {},
   "source": [
    "```-- Error Code: 1452. Cannot add or update a child row: a foreign key constraint fails (`classicmodels`.`employees`, CONSTRAINT `fk_Employees_Employees` FOREIGN KEY (`reportsTo`) REFERENCES `employees` (`employeeNumber`))```"
   ]
  },
  {
   "cell_type": "markdown",
   "id": "b51b96cf",
   "metadata": {},
   "source": [
    "> 3. Create a new office location and add some employees for the new location."
   ]
  },
  {
   "cell_type": "markdown",
   "id": "dea46166",
   "metadata": {},
   "source": [
    "```\n",
    "INSERT INTO offices (officeCode, city, phone, addressline1, country, postalCode,territory,officelocation)\n",
    "VALUES (197, 'Helsinki', '+44 20 7000 7000', 'Regents Park, Finland NW1 4SA', 'Finland', '020','North',POINT(51.5,0.12));\n",
    "```"
   ]
  },
  {
   "cell_type": "markdown",
   "id": "167b11d6",
   "metadata": {},
   "source": [
    "```\n",
    "INSERT INTO employees (employeeNumber, lastname, firstname, extension, email, reportsTo,jobTitle,officeCode)\n",
    "VALUES (19, 'Ray', 'Palmer', 'jovian.ai', 'ray@jovian.ai', 1002,'Engineer',197);\n",
    "\n",
    "\n",
    "INSERT INTO employees (employeeNumber, lastname, firstname, extension, email, reportsTo,jobTitle,officeCode)\n",
    "VALUES (20, 'Alfred', 'Pennyworth', 'jovian.ai', 'alfred@jovian.ai', 1,'Logistics Head',197);\n",
    "\n",
    "```"
   ]
  },
  {
   "cell_type": "markdown",
   "id": "8c8c7981",
   "metadata": {},
   "source": [
    "> **EXERCISES**:\n",
    "> \n",
    "> 1. List the customers in the United States with a credit limit higher than \\\\$1000.\n",
    "> 2. List the employee codes for sales representatives of customers in Spain, France and Italy. Make another query to list the names and email addresses of those employees.\n",
    "> 3. Change the job title \"Sales Rep\" to \"Sales Representative\"\n",
    "> 4. Delete the entries for Sales Representatives working in London.\n",
    "> 5. Show a list of employees who are not sales representatives\n",
    "> 6. Show a list of customers with \"Toys\" in their name"
   ]
  },
  {
   "cell_type": "markdown",
   "id": "71bbd608",
   "metadata": {},
   "source": [
    "> 1. List the customers in the United States with a credit limit higher than \\\\$1000."
   ]
  },
  {
   "cell_type": "markdown",
   "id": "1bb7d646",
   "metadata": {},
   "source": [
    "```\n",
    "SELECT * FROM customers WHERE country='USA' AND creditlimit>1000;\n",
    "\n",
    "```"
   ]
  },
  {
   "cell_type": "markdown",
   "id": "6ba15221",
   "metadata": {},
   "source": [
    "> 2. List the employee codes for sales representatives of customers in Spain, France and Italy. Make another query to list the names and email addresses of those employees."
   ]
  },
  {
   "cell_type": "markdown",
   "id": "a35d1fd1",
   "metadata": {},
   "source": [
    "```\n",
    "SELECT DISTINCT salesRepEmployeeNumber FROM customers WHERE country='Spain' OR country='Italy' OR country='France';\n",
    "\n",
    "\n",
    "SELECT firstname, email FROM employees WHERE employeenumber IN (1370,1337,1702,1401);\n",
    "\n",
    "```"
   ]
  },
  {
   "cell_type": "markdown",
   "id": "b801a911",
   "metadata": {},
   "source": [
    "> 3. Change the job title \"Sales Rep\" to \"Sales Representative\""
   ]
  },
  {
   "cell_type": "markdown",
   "id": "9f0964eb",
   "metadata": {},
   "source": [
    "```\n",
    "SET SQL_SAFE_UPDATES = 0;\n",
    "\n",
    "UPDATE employees SET jobTitle = 'Sales Representative' WHERE jobTitle = 'Sales Rep';\n",
    "\n",
    "SET SQL_SAFE_UPDATES = 1;\n",
    "```"
   ]
  },
  {
   "cell_type": "markdown",
   "id": "7fd9f2d1",
   "metadata": {},
   "source": [
    "> 4. Delete the entries for Sales Representatives working in London."
   ]
  },
  {
   "cell_type": "markdown",
   "id": "611e0c53",
   "metadata": {},
   "source": [
    "```\n",
    "SET foreign_key_checks=0;\n",
    "\n",
    "DELETE FROM employees WHERE jobTitle = 'Sales Representative' AND officeCode=7;\n",
    "\n",
    "SET foreign_key_checks=1;\n",
    "```"
   ]
  },
  {
   "cell_type": "markdown",
   "id": "e4cd32a8",
   "metadata": {},
   "source": [
    "> 5. Show a list of employees who are not sales representatives"
   ]
  },
  {
   "cell_type": "markdown",
   "id": "572fafaf",
   "metadata": {},
   "source": [
    "```\n",
    "SELECT * FROM employees WHERE jobTitle != 'Sales Representative' ;\n",
    "```"
   ]
  },
  {
   "cell_type": "markdown",
   "id": "34682ecb",
   "metadata": {},
   "source": [
    "> 6. Show a list of customers with \"Toys\" in their name"
   ]
  },
  {
   "cell_type": "markdown",
   "id": "ee7f1bc4",
   "metadata": {},
   "source": [
    "```\n",
    "SELECT * FROM customers WHERE customername LIKE '%Toys%';\n",
    "```"
   ]
  },
  {
   "cell_type": "markdown",
   "id": "f5f926a2",
   "metadata": {},
   "source": [
    "> **EXERCISES**:\n",
    ">\n",
    "> 1. List the 5 most expensive products from the \"Planes\" product line\n",
    "> 2. Identify the products that are about to run out of stock (quantity in stock < 100)\n",
    "> 3. List 10 products in the \"Motorcycles\" category with the lowest buy price and more than 1000 units in stock"
   ]
  },
  {
   "cell_type": "markdown",
   "id": "b789fb97",
   "metadata": {},
   "source": [
    "> 1. List the 5 most expensive products from the \"Planes\" product line"
   ]
  },
  {
   "cell_type": "markdown",
   "id": "2ff5536c",
   "metadata": {},
   "source": [
    "```\n",
    "SELECT productname FROM products where productline = 'Planes' ORDER BY buyprice DESC LIMIT 5;\n",
    "\n",
    "```\n"
   ]
  },
  {
   "cell_type": "markdown",
   "id": "3f1ab510",
   "metadata": {},
   "source": [
    "> 2. Identify the products that are about to run out of stock (quantity in stock < 100)"
   ]
  },
  {
   "cell_type": "markdown",
   "id": "110fc959",
   "metadata": {},
   "source": [
    "```\n",
    "SELECT productname,quantityinstock FROM products WHERE quantityinstock<100;\n",
    "```"
   ]
  },
  {
   "cell_type": "markdown",
   "id": "48c0d6f6",
   "metadata": {},
   "source": [
    "> 3. List 10 products in the \"Motorcycles\" category with the lowest buy price and more than 1000 units in stock"
   ]
  },
  {
   "cell_type": "markdown",
   "id": "7f862a38",
   "metadata": {},
   "source": [
    "```\n",
    "SELECT productname,buyprice,quantityinstock,productline FROM products WHERE productline='Motorcycles' AND quantityinstock>1000 ORDER BY buyprice LIMIT 10;\n",
    "```"
   ]
  },
  {
   "cell_type": "markdown",
   "id": "19faaf7d",
   "metadata": {},
   "source": [
    "> **EXERCISE**: Add, remove and modify one column in each of the tables created above. What happens when you rename or remove a column that is a primary key?"
   ]
  },
  {
   "cell_type": "markdown",
   "id": "0139f513",
   "metadata": {},
   "source": [
    "#### Add\n",
    "```\n",
    "ALTER TABLE customers ADD COLUMN status VARCHAR(15)AFTER creditLimit ;\n",
    "```\n",
    "\n",
    "#### Remove\n",
    "```\n",
    "ALTER TABLE customers DROP COLUMN status;\n",
    "```\n",
    "\n",
    "#### Modify\n",
    "```\n",
    "ALTER TABLE customers CHANGE postalcode postalcode_zip CHAR(50);\n",
    "```"
   ]
  },
  {
   "cell_type": "markdown",
   "id": "7df83172",
   "metadata": {},
   "source": [
    "#### Rename\n",
    "```\n",
    "ALTER TABLE customers CHANGE customernumber custnumber CHAR(50);\n",
    "```\n",
    "\n",
    "``` Error Code: 3780. Referencing column 'customerNumber' and referenced column 'custnumber' in foreign key constraint 'fk_Orders_Customers' are incompatible.```\n",
    "\n",
    "#### Remove\n",
    "```\n",
    "ALTER TABLE customers DROP COLUMN customernumber;\n",
    "```\n",
    "\n",
    "``` Error Code: 1829. Cannot drop column 'customerNumber': needed in a foreign key constraint 'fk_Orders_Customers' of table 'Orders'```"
   ]
  }
 ],
 "metadata": {
  "kernelspec": {
   "display_name": "Python 3.11.0 64-bit",
   "language": "python",
   "name": "python3"
  },
  "language_info": {
   "codemirror_mode": {
    "name": "ipython",
    "version": 3
   },
   "file_extension": ".py",
   "mimetype": "text/x-python",
   "name": "python",
   "nbconvert_exporter": "python",
   "pygments_lexer": "ipython3",
   "version": "3.11.5"
  },
  "vscode": {
   "interpreter": {
    "hash": "5238573367df39f7286bb46f9ff5f08f63a01a80960060ce41e3c79b190280fa"
   }
  }
 },
 "nbformat": 4,
 "nbformat_minor": 5
}
